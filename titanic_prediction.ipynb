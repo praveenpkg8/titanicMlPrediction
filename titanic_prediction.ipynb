{
 "cells": [
  {
   "cell_type": "code",
   "execution_count": 4,
   "id": "0dd6a482-8801-4d88-91d7-9faf15b066e1",
   "metadata": {},
   "outputs": [],
   "source": [
    "# test file change"
   ]
  },
  {
   "cell_type": "code",
   "execution_count": 2,
   "id": "3115d764-869f-4361-8b15-eb2cb26e0452",
   "metadata": {},
   "outputs": [],
   "source": [
    "import os\n",
    "import pyspark"
   ]
  },
  {
   "cell_type": "code",
   "execution_count": 3,
   "id": "5c985188-f571-444b-a5ef-5b402e838c5d",
   "metadata": {},
   "outputs": [],
   "source": [
    "from pyspark.context import SparkContext\n",
    "from pyspark.sql.session import SparkSession\n",
    "from pyspark.sql import functions as pysf \n",
    "\n",
    "sc = SparkContext('local')\n",
    "spark = SparkSession(sc)"
   ]
  },
  {
   "cell_type": "code",
   "execution_count": 10,
   "id": "c94a202b-4255-429d-b7a7-7f2603542138",
   "metadata": {},
   "outputs": [
    {
     "name": "stdout",
     "output_type": "stream",
     "text": [
      "dataScience  titanic  titanic_prediction.ipynb\ttitanic.zip\n"
     ]
    }
   ],
   "source": [
    "!ls"
   ]
  },
  {
   "cell_type": "code",
   "execution_count": 123,
   "id": "71e42477-05b7-4591-bcb3-2112214c98ec",
   "metadata": {},
   "outputs": [],
   "source": [
    "gender_submission_file_path = \"./titanic/gender_submission.csv\"\n",
    "train_file_path = \"./titanic/train.csv\""
   ]
  },
  {
   "cell_type": "code",
   "execution_count": 170,
   "id": "5234cda6-e028-41a1-b285-3d80febd8812",
   "metadata": {},
   "outputs": [],
   "source": [
    "genderDf = spark.read.options(header=True, inferSchema=True).csv(gender_submission_file_path)\n",
    "trainDf = spark.read.options(header=True, inferSchema=True).csv(train_file_path)"
   ]
  },
  {
   "cell_type": "code",
   "execution_count": 139,
   "id": "dbe5276c-6317-4760-a345-dcb42eab477d",
   "metadata": {},
   "outputs": [
    {
     "name": "stdout",
     "output_type": "stream",
     "text": [
      "-RECORD 0----------\n",
      " PassengerId | 892 \n",
      " Survived    | 0   \n",
      "-RECORD 1----------\n",
      " PassengerId | 893 \n",
      " Survived    | 1   \n",
      "-RECORD 2----------\n",
      " PassengerId | 894 \n",
      " Survived    | 0   \n",
      "-RECORD 3----------\n",
      " PassengerId | 895 \n",
      " Survived    | 0   \n",
      "-RECORD 4----------\n",
      " PassengerId | 896 \n",
      " Survived    | 1   \n",
      "\n"
     ]
    }
   ],
   "source": [
    "genderDf.limit(5).show(vertical=True)"
   ]
  },
  {
   "cell_type": "code",
   "execution_count": 140,
   "id": "d5824d4c-1a77-4f99-b6c3-aa72b6dfb6d1",
   "metadata": {},
   "outputs": [
    {
     "name": "stdout",
     "output_type": "stream",
     "text": [
      "-RECORD 0---------------------------\n",
      " PassengerId | 1                    \n",
      " Survived    | 0                    \n",
      " Pclass      | 3                    \n",
      " Name        | Braund, Mr. Owen ... \n",
      " Sex         | male                 \n",
      " Age         | 22                   \n",
      " SibSp       | 1                    \n",
      " Parch       | 0                    \n",
      " Ticket      | A/5 21171            \n",
      " Fare        | 7.25                 \n",
      " Cabin       | null                 \n",
      " Embarked    | S                    \n",
      "-RECORD 1---------------------------\n",
      " PassengerId | 2                    \n",
      " Survived    | 1                    \n",
      " Pclass      | 1                    \n",
      " Name        | Cumings, Mrs. Joh... \n",
      " Sex         | female               \n",
      " Age         | 38                   \n",
      " SibSp       | 1                    \n",
      " Parch       | 0                    \n",
      " Ticket      | PC 17599             \n",
      " Fare        | 71.2833              \n",
      " Cabin       | C85                  \n",
      " Embarked    | C                    \n",
      "-RECORD 2---------------------------\n",
      " PassengerId | 3                    \n",
      " Survived    | 1                    \n",
      " Pclass      | 3                    \n",
      " Name        | Heikkinen, Miss. ... \n",
      " Sex         | female               \n",
      " Age         | 26                   \n",
      " SibSp       | 0                    \n",
      " Parch       | 0                    \n",
      " Ticket      | STON/O2. 3101282     \n",
      " Fare        | 7.925                \n",
      " Cabin       | null                 \n",
      " Embarked    | S                    \n",
      "-RECORD 3---------------------------\n",
      " PassengerId | 4                    \n",
      " Survived    | 1                    \n",
      " Pclass      | 1                    \n",
      " Name        | Futrelle, Mrs. Ja... \n",
      " Sex         | female               \n",
      " Age         | 35                   \n",
      " SibSp       | 1                    \n",
      " Parch       | 0                    \n",
      " Ticket      | 113803               \n",
      " Fare        | 53.1                 \n",
      " Cabin       | C123                 \n",
      " Embarked    | S                    \n",
      "-RECORD 4---------------------------\n",
      " PassengerId | 5                    \n",
      " Survived    | 0                    \n",
      " Pclass      | 3                    \n",
      " Name        | Allen, Mr. Willia... \n",
      " Sex         | male                 \n",
      " Age         | 35                   \n",
      " SibSp       | 0                    \n",
      " Parch       | 0                    \n",
      " Ticket      | 373450               \n",
      " Fare        | 8.05                 \n",
      " Cabin       | null                 \n",
      " Embarked    | S                    \n",
      "\n"
     ]
    }
   ],
   "source": [
    "trainDf.limit(5).show(vertical=True)"
   ]
  },
  {
   "cell_type": "code",
   "execution_count": 176,
   "id": "63bb0378-09b4-4c79-9452-f2d996eddc74",
   "metadata": {},
   "outputs": [],
   "source": [
    "from pyspark.sql import functions as F\n",
    "from pyspark.sql import types as T"
   ]
  },
  {
   "cell_type": "code",
   "execution_count": 142,
   "id": "2aea93f5-a0f6-4bf1-8f4e-50246b180a9b",
   "metadata": {},
   "outputs": [
    {
     "data": {
      "text/plain": [
       "['PassengerId',\n",
       " 'Survived',\n",
       " 'Pclass',\n",
       " 'Name',\n",
       " 'Sex',\n",
       " 'Age',\n",
       " 'SibSp',\n",
       " 'Parch',\n",
       " 'Ticket',\n",
       " 'Fare',\n",
       " 'Cabin',\n",
       " 'Embarked']"
      ]
     },
     "execution_count": 142,
     "metadata": {},
     "output_type": "execute_result"
    }
   ],
   "source": [
    "trainDf.columns"
   ]
  },
  {
   "cell_type": "code",
   "execution_count": 171,
   "id": "f2a95820-79d8-4044-8bd8-68c0bd7bdbec",
   "metadata": {},
   "outputs": [
    {
     "name": "stdout",
     "output_type": "stream",
     "text": [
      "+-----------+--------+------+----+---+---+-----+-----+------+----+-----+--------+\n",
      "|PassengerId|Survived|Pclass|Name|Sex|Age|SibSp|Parch|Ticket|Fare|Cabin|Embarked|\n",
      "+-----------+--------+------+----+---+---+-----+-----+------+----+-----+--------+\n",
      "|          0|       0|     0|   0|  0|177|    0|    0|     0|   0|  687|       2|\n",
      "+-----------+--------+------+----+---+---+-----+-----+------+----+-----+--------+\n",
      "\n"
     ]
    }
   ],
   "source": [
    "trainDf.select(\n",
    "    [F.count(F.when(F.isnan(c) | F.col(c).isNull(), c)).alias(c) for c in trainDf.columns]\n",
    ").show()"
   ]
  },
  {
   "cell_type": "code",
   "execution_count": 172,
   "id": "965fc2d0-dda7-4e2f-bc86-630bf62421bb",
   "metadata": {},
   "outputs": [],
   "source": [
    "trainDf = trainDf.fillna(value=-1.0, subset=[\"Age\"])\\\n",
    "    .fillna(value=\"NOTFOUND\", subset=[\"Embarked\"])\\\n",
    "    .fillna(value=\"NOTFOUND\", subset=[\"Cabin\"])\n"
   ]
  },
  {
   "cell_type": "code",
   "execution_count": 173,
   "id": "1ac9a7ac-b0de-4b5f-9f35-7bce6a078168",
   "metadata": {},
   "outputs": [
    {
     "name": "stdout",
     "output_type": "stream",
     "text": [
      "+-----------+--------+------+----+---+---+-----+-----+------+----+-----+--------+\n",
      "|PassengerId|Survived|Pclass|Name|Sex|Age|SibSp|Parch|Ticket|Fare|Cabin|Embarked|\n",
      "+-----------+--------+------+----+---+---+-----+-----+------+----+-----+--------+\n",
      "|          0|       0|     0|   0|  0|  0|    0|    0|     0|   0|    0|       0|\n",
      "+-----------+--------+------+----+---+---+-----+-----+------+----+-----+--------+\n",
      "\n"
     ]
    }
   ],
   "source": [
    "trainDf.select(\n",
    "    [F.count(F.when(F.isnan(c) | F.col(c).isNull(), c)).alias(c) for c in trainDf.columns]\n",
    ").show()"
   ]
  },
  {
   "cell_type": "code",
   "execution_count": 175,
   "id": "1d6dbf66-2b16-4edd-93c7-fb85332564a0",
   "metadata": {},
   "outputs": [],
   "source": [
    "def parseCabinSection(cabin):\n",
    "    return cabin[0]"
   ]
  },
  {
   "cell_type": "code",
   "execution_count": 177,
   "id": "65f0b1ee-0238-42e9-b317-707d1e4c753b",
   "metadata": {},
   "outputs": [],
   "source": [
    "parseCabinSectionUDF = F.udf(lambda x:parseCabinSection(x), T.StringType())   \n"
   ]
  },
  {
   "cell_type": "code",
   "execution_count": 178,
   "id": "04a2c234-f4e8-4b61-ae3b-fd2efbe6912b",
   "metadata": {},
   "outputs": [],
   "source": [
    "trainDf = trainDf.withColumn(\"CabinSection\", parseCabinSectionUDF(F.col(\"Cabin\")))"
   ]
  },
  {
   "cell_type": "code",
   "execution_count": 183,
   "id": "0fbadf0a-876f-4476-8a47-688eeda24241",
   "metadata": {},
   "outputs": [
    {
     "name": "stdout",
     "output_type": "stream",
     "text": [
      "+------------+--------+-----+\n",
      "|CabinSection|Survived|count|\n",
      "+------------+--------+-----+\n",
      "|           A|       0|    8|\n",
      "|           A|       1|    7|\n",
      "|           B|       0|   12|\n",
      "|           B|       1|   35|\n",
      "|           C|       0|   24|\n",
      "|           C|       1|   35|\n",
      "|           D|       0|    8|\n",
      "|           D|       1|   25|\n",
      "|           E|       0|    8|\n",
      "|           E|       1|   24|\n",
      "|           F|       0|    5|\n",
      "|           F|       1|    8|\n",
      "|           G|       0|    2|\n",
      "|           G|       1|    2|\n",
      "|           N|       0|  481|\n",
      "|           N|       1|  206|\n",
      "|           T|       0|    1|\n",
      "+------------+--------+-----+\n",
      "\n"
     ]
    }
   ],
   "source": [
    "trainDf.groupBy(F.col(\"CabinSection\"), F.col(\"Survived\")).count().sort(F.col(\"CabinSection\"), F.col(\"Survived\")).show()"
   ]
  },
  {
   "cell_type": "code",
   "execution_count": 180,
   "id": "534b90b6-e078-44d4-8459-e7e866054012",
   "metadata": {},
   "outputs": [
    {
     "name": "stdout",
     "output_type": "stream",
     "text": [
      "root\n",
      " |-- PassengerId: integer (nullable = true)\n",
      " |-- Survived: integer (nullable = true)\n",
      " |-- Pclass: integer (nullable = true)\n",
      " |-- Name: string (nullable = true)\n",
      " |-- Sex: string (nullable = true)\n",
      " |-- Age: double (nullable = false)\n",
      " |-- SibSp: integer (nullable = true)\n",
      " |-- Parch: integer (nullable = true)\n",
      " |-- Ticket: string (nullable = true)\n",
      " |-- Fare: double (nullable = true)\n",
      " |-- Cabin: string (nullable = false)\n",
      " |-- Embarked: string (nullable = false)\n",
      " |-- CabinSection: string (nullable = true)\n",
      "\n"
     ]
    }
   ],
   "source": [
    "trainDf.printSchema()"
   ]
  },
  {
   "cell_type": "code",
   "execution_count": 111,
   "id": "1246884f-065e-4459-a2e6-dc8642f72ab9",
   "metadata": {},
   "outputs": [
    {
     "name": "stdout",
     "output_type": "stream",
     "text": [
      "+------+------+--------+-----+\n",
      "|Pclass|   Sex|Survived|count|\n",
      "+------+------+--------+-----+\n",
      "|     1|female|       1|   91|\n",
      "|     1|female|       0|    3|\n",
      "|     1|  male|       1|   45|\n",
      "|     1|  male|       0|   77|\n",
      "|     2|female|       1|   70|\n",
      "|     2|female|       0|    6|\n",
      "|     2|  male|       1|   17|\n",
      "|     2|  male|       0|   91|\n",
      "|     3|female|       1|   72|\n",
      "|     3|female|       0|   72|\n",
      "|     3|  male|       1|   47|\n",
      "|     3|  male|       0|  300|\n",
      "+------+------+--------+-----+\n",
      "\n"
     ]
    }
   ],
   "source": [
    "trainDf\\\n",
    "    .groupBy(F.col(\"Pclass\"), F.col(\"Sex\"), F.col(\"Survived\"))\\\n",
    "    .count()\\\n",
    "    .sort(F.col(\"Pclass\"), F.col(\"Sex\")).show()"
   ]
  },
  {
   "cell_type": "code",
   "execution_count": 59,
   "id": "fac35624-2693-4ddb-a17d-ca9286524527",
   "metadata": {},
   "outputs": [
    {
     "name": "stdout",
     "output_type": "stream",
     "text": [
      "+-----------+--------+-----------+--------+------+----+---+---+-----+-----+------+----+-----+--------+\n",
      "|PassengerId|Survived|PassengerId|Survived|Pclass|Name|Sex|Age|SibSp|Parch|Ticket|Fare|Cabin|Embarked|\n",
      "+-----------+--------+-----------+--------+------+----+---+---+-----+-----+------+----+-----+--------+\n",
      "+-----------+--------+-----------+--------+------+----+---+---+-----+-----+------+----+-----+--------+\n",
      "\n"
     ]
    }
   ],
   "source": [
    "outputDf.limit(1500).show(1500)"
   ]
  },
  {
   "cell_type": "code",
   "execution_count": null,
   "id": "08430917-38be-47cc-b214-da5ee128cbc3",
   "metadata": {},
   "outputs": [],
   "source": []
  }
 ],
 "metadata": {
  "kernelspec": {
   "display_name": "Python 3 (ipykernel)",
   "language": "python",
   "name": "python3"
  },
  "language_info": {
   "codemirror_mode": {
    "name": "ipython",
    "version": 3
   },
   "file_extension": ".py",
   "mimetype": "text/x-python",
   "name": "python",
   "nbconvert_exporter": "python",
   "pygments_lexer": "ipython3",
   "version": "3.10.6"
  }
 },
 "nbformat": 4,
 "nbformat_minor": 5
}
