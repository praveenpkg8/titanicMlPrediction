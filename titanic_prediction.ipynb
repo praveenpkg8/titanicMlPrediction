{
 "cells": [
  {
   "cell_type": "code",
   "execution_count": 87,
   "id": "3115d764-869f-4361-8b15-eb2cb26e0452",
   "metadata": {},
   "outputs": [],
   "source": [
    "import os\n",
    "import pyspark\n",
    "\n",
    "from pyspark.context import SparkContext\n",
    "from pyspark.sql.session import SparkSession\n",
    "from pyspark.sql import functions as pysf \n",
    "\n",
    "import matplotlib.pyplot as plt"
   ]
  },
  {
   "cell_type": "code",
   "execution_count": 2,
   "id": "5c985188-f571-444b-a5ef-5b402e838c5d",
   "metadata": {},
   "outputs": [],
   "source": [
    "sc = SparkContext('local')\n",
    "spark = SparkSession(sc)"
   ]
  },
  {
   "cell_type": "code",
   "execution_count": 3,
   "id": "71e42477-05b7-4591-bcb3-2112214c98ec",
   "metadata": {},
   "outputs": [],
   "source": [
    "gender_submission_file_path = \"./titanic/gender_submission.csv\"\n",
    "train_file_path = \"./titanic/train.csv\""
   ]
  },
  {
   "cell_type": "code",
   "execution_count": 48,
   "id": "5234cda6-e028-41a1-b285-3d80febd8812",
   "metadata": {},
   "outputs": [],
   "source": [
    "genderDf = spark.read.options(header=True, inferSchema=True).csv(gender_submission_file_path)\n",
    "trainDf = spark.read.options(header=True, inferSchema=True).csv(train_file_path)"
   ]
  },
  {
   "cell_type": "code",
   "execution_count": 49,
   "id": "dbe5276c-6317-4760-a345-dcb42eab477d",
   "metadata": {},
   "outputs": [
    {
     "name": "stdout",
     "output_type": "stream",
     "text": [
      "-RECORD 0----------\n",
      " PassengerId | 892 \n",
      " Survived    | 0   \n",
      "-RECORD 1----------\n",
      " PassengerId | 893 \n",
      " Survived    | 1   \n",
      "-RECORD 2----------\n",
      " PassengerId | 894 \n",
      " Survived    | 0   \n",
      "-RECORD 3----------\n",
      " PassengerId | 895 \n",
      " Survived    | 0   \n",
      "-RECORD 4----------\n",
      " PassengerId | 896 \n",
      " Survived    | 1   \n",
      "\n"
     ]
    }
   ],
   "source": [
    "genderDf.limit(5).show(vertical=True)"
   ]
  },
  {
   "cell_type": "code",
   "execution_count": 50,
   "id": "d5824d4c-1a77-4f99-b6c3-aa72b6dfb6d1",
   "metadata": {},
   "outputs": [
    {
     "name": "stdout",
     "output_type": "stream",
     "text": [
      "-RECORD 0---------------------------\n",
      " PassengerId | 1                    \n",
      " Survived    | 0                    \n",
      " Pclass      | 3                    \n",
      " Name        | Braund, Mr. Owen ... \n",
      " Sex         | male                 \n",
      " Age         | 22.0                 \n",
      " SibSp       | 1                    \n",
      " Parch       | 0                    \n",
      " Ticket      | A/5 21171            \n",
      " Fare        | 7.25                 \n",
      " Cabin       | null                 \n",
      " Embarked    | S                    \n",
      "-RECORD 1---------------------------\n",
      " PassengerId | 2                    \n",
      " Survived    | 1                    \n",
      " Pclass      | 1                    \n",
      " Name        | Cumings, Mrs. Joh... \n",
      " Sex         | female               \n",
      " Age         | 38.0                 \n",
      " SibSp       | 1                    \n",
      " Parch       | 0                    \n",
      " Ticket      | PC 17599             \n",
      " Fare        | 71.2833              \n",
      " Cabin       | C85                  \n",
      " Embarked    | C                    \n",
      "-RECORD 2---------------------------\n",
      " PassengerId | 3                    \n",
      " Survived    | 1                    \n",
      " Pclass      | 3                    \n",
      " Name        | Heikkinen, Miss. ... \n",
      " Sex         | female               \n",
      " Age         | 26.0                 \n",
      " SibSp       | 0                    \n",
      " Parch       | 0                    \n",
      " Ticket      | STON/O2. 3101282     \n",
      " Fare        | 7.925                \n",
      " Cabin       | null                 \n",
      " Embarked    | S                    \n",
      "-RECORD 3---------------------------\n",
      " PassengerId | 4                    \n",
      " Survived    | 1                    \n",
      " Pclass      | 1                    \n",
      " Name        | Futrelle, Mrs. Ja... \n",
      " Sex         | female               \n",
      " Age         | 35.0                 \n",
      " SibSp       | 1                    \n",
      " Parch       | 0                    \n",
      " Ticket      | 113803               \n",
      " Fare        | 53.1                 \n",
      " Cabin       | C123                 \n",
      " Embarked    | S                    \n",
      "-RECORD 4---------------------------\n",
      " PassengerId | 5                    \n",
      " Survived    | 0                    \n",
      " Pclass      | 3                    \n",
      " Name        | Allen, Mr. Willia... \n",
      " Sex         | male                 \n",
      " Age         | 35.0                 \n",
      " SibSp       | 0                    \n",
      " Parch       | 0                    \n",
      " Ticket      | 373450               \n",
      " Fare        | 8.05                 \n",
      " Cabin       | null                 \n",
      " Embarked    | S                    \n",
      "\n"
     ]
    }
   ],
   "source": [
    "trainDf.limit(5).show(vertical=True)"
   ]
  },
  {
   "cell_type": "code",
   "execution_count": 51,
   "id": "63bb0378-09b4-4c79-9452-f2d996eddc74",
   "metadata": {},
   "outputs": [],
   "source": [
    "from pyspark.sql import functions as F\n",
    "from pyspark.sql import types as T"
   ]
  },
  {
   "cell_type": "code",
   "execution_count": 52,
   "id": "2aea93f5-a0f6-4bf1-8f4e-50246b180a9b",
   "metadata": {},
   "outputs": [
    {
     "data": {
      "text/plain": [
       "['PassengerId',\n",
       " 'Survived',\n",
       " 'Pclass',\n",
       " 'Name',\n",
       " 'Sex',\n",
       " 'Age',\n",
       " 'SibSp',\n",
       " 'Parch',\n",
       " 'Ticket',\n",
       " 'Fare',\n",
       " 'Cabin',\n",
       " 'Embarked']"
      ]
     },
     "execution_count": 52,
     "metadata": {},
     "output_type": "execute_result"
    }
   ],
   "source": [
    "trainDf.columns"
   ]
  },
  {
   "cell_type": "code",
   "execution_count": 53,
   "id": "f2a95820-79d8-4044-8bd8-68c0bd7bdbec",
   "metadata": {},
   "outputs": [
    {
     "name": "stdout",
     "output_type": "stream",
     "text": [
      "+-----------+--------+------+----+---+---+-----+-----+------+----+-----+--------+\n",
      "|PassengerId|Survived|Pclass|Name|Sex|Age|SibSp|Parch|Ticket|Fare|Cabin|Embarked|\n",
      "+-----------+--------+------+----+---+---+-----+-----+------+----+-----+--------+\n",
      "|          0|       0|     0|   0|  0|177|    0|    0|     0|   0|  687|       2|\n",
      "+-----------+--------+------+----+---+---+-----+-----+------+----+-----+--------+\n",
      "\n"
     ]
    }
   ],
   "source": [
    "trainDf.select(\n",
    "    [F.count(F.when(F.isnan(c) | F.col(c).isNull(), c)).alias(c) for c in trainDf.columns]\n",
    ").show()"
   ]
  },
  {
   "cell_type": "code",
   "execution_count": 54,
   "id": "965fc2d0-dda7-4e2f-bc86-630bf62421bb",
   "metadata": {},
   "outputs": [],
   "source": [
    "trainDf = trainDf.fillna(value=-1.0, subset=[\"Age\"])\\\n",
    "    .fillna(value=\"NOTFOUND\", subset=[\"Embarked\"])\\\n",
    "    .fillna(value=\"NOTFOUND\", subset=[\"Cabin\"])\n"
   ]
  },
  {
   "cell_type": "code",
   "execution_count": 55,
   "id": "1ac9a7ac-b0de-4b5f-9f35-7bce6a078168",
   "metadata": {},
   "outputs": [
    {
     "name": "stdout",
     "output_type": "stream",
     "text": [
      "+-----------+--------+------+----+---+---+-----+-----+------+----+-----+--------+\n",
      "|PassengerId|Survived|Pclass|Name|Sex|Age|SibSp|Parch|Ticket|Fare|Cabin|Embarked|\n",
      "+-----------+--------+------+----+---+---+-----+-----+------+----+-----+--------+\n",
      "|          0|       0|     0|   0|  0|  0|    0|    0|     0|   0|    0|       0|\n",
      "+-----------+--------+------+----+---+---+-----+-----+------+----+-----+--------+\n",
      "\n"
     ]
    }
   ],
   "source": [
    "trainDf.select(\n",
    "    [F.count(F.when(F.isnan(c) | F.col(c).isNull(), c)).alias(c) for c in trainDf.columns]\n",
    ").show()"
   ]
  },
  {
   "cell_type": "code",
   "execution_count": 56,
   "id": "1d6dbf66-2b16-4edd-93c7-fb85332564a0",
   "metadata": {},
   "outputs": [],
   "source": [
    "def parseCabinSection(cabin):\n",
    "    return cabin[0]"
   ]
  },
  {
   "cell_type": "code",
   "execution_count": 57,
   "id": "65f0b1ee-0238-42e9-b317-707d1e4c753b",
   "metadata": {},
   "outputs": [],
   "source": [
    "parseCabinSectionUDF = F.udf(lambda x:parseCabinSection(x), T.StringType())   \n"
   ]
  },
  {
   "cell_type": "code",
   "execution_count": 58,
   "id": "04a2c234-f4e8-4b61-ae3b-fd2efbe6912b",
   "metadata": {},
   "outputs": [],
   "source": [
    "trainDf = trainDf.withColumn(\"CabinSection\", parseCabinSectionUDF(F.col(\"Cabin\")))"
   ]
  },
  {
   "cell_type": "code",
   "execution_count": null,
   "id": "3b2095e8-a234-4034-b106-0b183976f6b9",
   "metadata": {},
   "outputs": [],
   "source": []
  },
  {
   "cell_type": "code",
   "execution_count": 67,
   "id": "0fbadf0a-876f-4476-8a47-688eeda24241",
   "metadata": {},
   "outputs": [
    {
     "name": "stdout",
     "output_type": "stream",
     "text": [
      "+-------------+---------+\n",
      "|CabinSection1|CabintTot|\n",
      "+-------------+---------+\n",
      "|            F|       13|\n",
      "|            E|       32|\n",
      "|            T|        1|\n",
      "|            B|       47|\n",
      "|            D|       33|\n",
      "|            C|       59|\n",
      "|            A|       15|\n",
      "|            N|      687|\n",
      "|            G|        4|\n",
      "+-------------+---------+\n",
      "\n",
      "+------------+------+--------+---------+---------+\n",
      "|CabinSection|   Sex|Survived|CabintSum|CabintTot|\n",
      "+------------+------+--------+---------+---------+\n",
      "|           A|  male|       1|        6|       15|\n",
      "|           A|  male|       0|        8|       15|\n",
      "|           A|female|       1|        1|       15|\n",
      "|           B|female|       1|       27|       47|\n",
      "|           B|  male|       0|       12|       47|\n",
      "|           B|  male|       1|        8|       47|\n",
      "|           C|female|       0|        3|       59|\n",
      "|           C|female|       1|       24|       59|\n",
      "|           C|  male|       0|       21|       59|\n",
      "|           C|  male|       1|       11|       59|\n",
      "|           D|  male|       0|        8|       33|\n",
      "|           D|  male|       1|        7|       33|\n",
      "|           D|female|       1|       18|       33|\n",
      "|           E|female|       0|        1|       32|\n",
      "|           E|  male|       0|        7|       32|\n",
      "|           E|female|       1|       14|       32|\n",
      "|           E|  male|       1|       10|       32|\n",
      "|           F|  male|       0|        5|       13|\n",
      "|           F|  male|       1|        3|       13|\n",
      "|           F|female|       1|        5|       13|\n",
      "+------------+------+--------+---------+---------+\n",
      "only showing top 20 rows\n",
      "\n"
     ]
    }
   ],
   "source": [
    "# trainDf.groupBy(F.col(\"CabinSection\"),F.col(\"Sex\"), F.col(\"Survived\")).mean().sort(F.col(\"Survived\")).show()\n",
    "checkDf = trainDf.groupBy(F.col(\"CabinSection\")).agg(\n",
    "    F.count(\"CabinSection\").alias(\"CabintTot\")\n",
    ").withColumnRenamed(\"CabinSection\", \"CabinSection1\")\n",
    "checkDf.show()\n",
    "trainDf.groupBy(F.col(\"CabinSection\"),F.col(\"Sex\"), F.col(\"Survived\")).agg(\n",
    "    F.count(\"CabinSection\").alias(\"CabintSum\"),\n",
    ").join(checkDf, trainDf.CabinSection == checkDf.CabinSection1, 'left_outer').drop(\"CabinSection1\").sort(F.col(\"CabinSection\")).show()\n"
   ]
  },
  {
   "cell_type": "code",
   "execution_count": 78,
   "id": "730b902a-8e48-408d-958d-146eee4f23b4",
   "metadata": {},
   "outputs": [],
   "source": [
    "calculateSurvialByCabinSectionUDF = F.udf(lambda x, y : (x/y) * 100, T.DoubleType())"
   ]
  },
  {
   "cell_type": "code",
   "execution_count": 129,
   "id": "a8cf1dca-3fa9-42a9-bacf-837859b9e72e",
   "metadata": {},
   "outputs": [
    {
     "name": "stdout",
     "output_type": "stream",
     "text": [
      "+------------+------+--------+---------+---------+------------------+\n",
      "|CabinSection|   Sex|Survived|CabintSum|CabintTot|      ProbSurvival|\n",
      "+------------+------+--------+---------+---------+------------------+\n",
      "|           B|female|       1|       27|       47|57.446808510638306|\n",
      "|           D|female|       1|       18|       33| 54.54545454545454|\n",
      "|           G|female|       1|        2|        4|              50.0|\n",
      "|           E|female|       1|       14|       32|             43.75|\n",
      "|           C|female|       1|       24|       59| 40.67796610169492|\n",
      "|           A|  male|       1|        6|       15|              40.0|\n",
      "|           F|female|       1|        5|       13| 38.46153846153847|\n",
      "|           E|  male|       1|       10|       32|             31.25|\n",
      "|           F|  male|       1|        3|       13|23.076923076923077|\n",
      "|           D|  male|       1|        7|       33| 21.21212121212121|\n",
      "|           N|female|       1|      142|      687| 20.66957787481805|\n",
      "|           C|  male|       1|       11|       59| 18.64406779661017|\n",
      "|           B|  male|       1|        8|       47| 17.02127659574468|\n",
      "|           N|  male|       1|       64|      687| 9.315866084425037|\n",
      "|           A|female|       1|        1|       15| 6.666666666666667|\n",
      "|           T|  male|       0|        1|        1|             100.0|\n",
      "|           N|  male|       0|      406|      687| 59.09752547307132|\n",
      "|           A|  male|       0|        8|       15|53.333333333333336|\n",
      "|           G|female|       0|        2|        4|              50.0|\n",
      "|           F|  male|       0|        5|       13| 38.46153846153847|\n",
      "|           C|  male|       0|       21|       59| 35.59322033898305|\n",
      "|           B|  male|       0|       12|       47| 25.53191489361702|\n",
      "|           D|  male|       0|        8|       33|24.242424242424242|\n",
      "|           E|  male|       0|        7|       32|            21.875|\n",
      "|           N|female|       0|       75|      687| 10.91703056768559|\n",
      "|           C|female|       0|        3|       59| 5.084745762711865|\n",
      "|           E|female|       0|        1|       32|             3.125|\n",
      "+------------+------+--------+---------+---------+------------------+\n",
      "\n"
     ]
    }
   ],
   "source": [
    "cabindSectionDf = trainDf\\\n",
    "    .groupBy(F.col(\"CabinSection\"),F.col(\"Sex\"), F.col(\"Survived\"))\\\n",
    "    .agg(F.count(\"CabinSection\").alias(\"CabintSum\"))\\\n",
    "    .join(checkDf, trainDf.CabinSection == checkDf.CabinSection1, 'left_outer')\\\n",
    "    .drop(\"CabinSection1\")\\\n",
    "    .withColumn(\"ProbSurvival\", calculateSurvialByCabinSectionUDF(F.col(\"CabintSum\"), F.col(\"CabintTot\")))\n",
    "\n",
    "cabindSectionDf.sort(F.col(\"Survived\").desc(), F.col(\"ProbSurvival\").desc())\\\n",
    "    .show(100)"
   ]
  },
  {
   "cell_type": "code",
   "execution_count": 130,
   "id": "5a271bc6-aa94-4b90-8447-49ab937fcf54",
   "metadata": {},
   "outputs": [],
   "source": [
    "femaleCabinSurvialDf = cabindSectionDf.filter((F.col(\"Sex\") == \"female\")  & (F.col(\"Survived\") == 1)).select(\"CabinSection\", \"ProbSurvival\")\n",
    "maleCabinSurvivalDf = cabindSectionDf.filter((F.col(\"Sex\") == \"male\")  & (F.col(\"Survived\") == 1)).select(F.col(\"CabinSection\").alias(\"MaleCabinSection\"), F.col(\"ProbSurvival\").alias(\"MaleProbSurvival\"))\n",
    "plotDF = femaleCabinSurvialDf.join(maleCabinSurvivalDf, femaleCabinSurvialDf.CabinSection == maleCabinSurvivalDf.MaleCabinSection, 'left_outer').drop(\"MaleCabinSection\").fillna(0)"
   ]
  },
  {
   "cell_type": "code",
   "execution_count": 131,
   "id": "4dc949b2-74c7-4961-a5a9-9ef4910637dc",
   "metadata": {},
   "outputs": [
    {
     "name": "stdout",
     "output_type": "stream",
     "text": [
      "defaultdict(<class 'list'>, {'cabin': ['A', 'G', 'B', 'F', 'C', 'N', 'E', 'D'], 'female': [6.666666666666667, 50.0, 57.446808510638306, 38.46153846153847, 40.67796610169492, 20.66957787481805, 43.75, 54.54545454545454], 'male': [40.0, 0.0, 17.02127659574468, 23.076923076923077, 18.64406779661017, 9.315866084425037, 31.25, 21.21212121212121]})\n"
     ]
    }
   ],
   "source": [
    "# data visualization efforts\n",
    "from collections import defaultdict\n",
    "plotDetails = plotDF.collect()\n",
    "cabinSectionDetails = defaultdict(list)\n",
    "for row in plotDetails:\n",
    "    cabinSectionDetails[\"cabin\"].append(row.CabinSection)\n",
    "    cabinSectionDetails[\"female\"].append(row.ProbSurvival)\n",
    "    cabinSectionDetails[\"male\"].append(row.MaleProbSurvival)\n",
    "    \n",
    "print(cabinSectionDetails)"
   ]
  },
  {
   "cell_type": "code",
   "execution_count": 132,
   "id": "1e820bbb-113d-40d5-96e4-d30c81fb7bc3",
   "metadata": {},
   "outputs": [
    {
     "data": {
      "image/png": "[encoded data removed]",
      "text/plain": [
       "<Figure size 640x480 with 1 Axes>"
      ]
     },
     "metadata": {},
     "output_type": "display_data"
    }
   ],
   "source": [
    "import matplotlib.pyplot as plt\n",
    "\n",
    "# labels = ['G1', 'G2', 'G3', 'G4', 'G5']\n",
    "labels = cabinSectionDetails.get('cabin')\n",
    "men_means = cabinSectionDetails.get('male')\n",
    "women_means = cabinSectionDetails.get('female')\n",
    "\n",
    "x = np.arange(len(labels))  # the label locations\n",
    "width = 0.35  # the width of the bars\n",
    "\n",
    "fig, ax = plt.subplots()\n",
    "rects1 = ax.bar(x - width/2, men_means, width, label='Men')\n",
    "rects2 = ax.bar(x + width/2, women_means, width, label='Women')\n",
    "\n",
    "# Add some text for labels, title and custom x-axis tick labels, etc.\n",
    "ax.set_ylabel('Probability')\n",
    "ax.set_title('Scores by group and gender')\n",
    "ax.set_xticks(x, labels)\n",
    "ax.legend()\n",
    "\n",
    "ax.bar_label(rects1, padding=3)\n",
    "ax.bar_label(rects2, padding=3)\n",
    "\n",
    "fig.tight_layout()\n",
    "\n",
    "plt.show()"
   ]
  },
  {
   "cell_type": "code",
   "execution_count": 180,
   "id": "534b90b6-e078-44d4-8459-e7e866054012",
   "metadata": {},
   "outputs": [
    {
     "name": "stdout",
     "output_type": "stream",
     "text": [
      "root\n",
      " |-- PassengerId: integer (nullable = true)\n",
      " |-- Survived: integer (nullable = true)\n",
      " |-- Pclass: integer (nullable = true)\n",
      " |-- Name: string (nullable = true)\n",
      " |-- Sex: string (nullable = true)\n",
      " |-- Age: double (nullable = false)\n",
      " |-- SibSp: integer (nullable = true)\n",
      " |-- Parch: integer (nullable = true)\n",
      " |-- Ticket: string (nullable = true)\n",
      " |-- Fare: double (nullable = true)\n",
      " |-- Cabin: string (nullable = false)\n",
      " |-- Embarked: string (nullable = false)\n",
      " |-- CabinSection: string (nullable = true)\n",
      "\n"
     ]
    }
   ],
   "source": [
    "trainDf.printSchema()"
   ]
  },
  {
   "cell_type": "code",
   "execution_count": 21,
   "id": "13ce1278-a005-4f38-8fb0-5832a5362922",
   "metadata": {},
   "outputs": [
    {
     "name": "stdout",
     "output_type": "stream",
     "text": [
      "-RECORD 0----------------------------\n",
      " summary      | count                \n",
      " PassengerId  | 891                  \n",
      " Survived     | 891                  \n",
      " Pclass       | 891                  \n",
      " Name         | 891                  \n",
      " Sex          | 891                  \n",
      " Age          | 891                  \n",
      " SibSp        | 891                  \n",
      " Parch        | 891                  \n",
      " Ticket       | 891                  \n",
      " Fare         | 891                  \n",
      " Cabin        | 891                  \n",
      " Embarked     | 891                  \n",
      " CabinSection | 891                  \n",
      "-RECORD 1----------------------------\n",
      " summary      | mean                 \n",
      " PassengerId  | 446.0                \n",
      " Survived     | 0.3838383838383838   \n",
      " Pclass       | 2.308641975308642    \n",
      " Name         | null                 \n",
      " Sex          | null                 \n",
      " Age          | 23.600639730639728   \n",
      " SibSp        | 0.5230078563411896   \n",
      " Parch        | 0.38159371492704824  \n",
      " Ticket       | 260318.54916792738   \n",
      " Fare         | 32.2042079685746     \n",
      " Cabin        | null                 \n",
      " Embarked     | null                 \n",
      " CabinSection | null                 \n",
      "-RECORD 2----------------------------\n",
      " summary      | stddev               \n",
      " PassengerId  | 257.3538420152301    \n",
      " Survived     | 0.48659245426485753  \n",
      " Pclass       | 0.8360712409770491   \n",
      " Name         | null                 \n",
      " Sex          | null                 \n",
      " Age          | 17.86749638641001    \n",
      " SibSp        | 1.1027434322934315   \n",
      " Parch        | 0.8060572211299488   \n",
      " Ticket       | 471609.26868834975   \n",
      " Fare         | 49.69342859718089    \n",
      " Cabin        | null                 \n",
      " Embarked     | null                 \n",
      " CabinSection | null                 \n",
      "-RECORD 3----------------------------\n",
      " summary      | min                  \n",
      " PassengerId  | 1                    \n",
      " Survived     | 0                    \n",
      " Pclass       | 1                    \n",
      " Name         | \"Andersson, Mr. A... \n",
      " Sex          | female               \n",
      " Age          | -1.0                 \n",
      " SibSp        | 0                    \n",
      " Parch        | 0                    \n",
      " Ticket       | 110152               \n",
      " Fare         | 0.0                  \n",
      " Cabin        | A10                  \n",
      " Embarked     | C                    \n",
      " CabinSection | A                    \n",
      "-RECORD 4----------------------------\n",
      " summary      | 25%                  \n",
      " PassengerId  | 223                  \n",
      " Survived     | 0                    \n",
      " Pclass       | 2                    \n",
      " Name         | null                 \n",
      " Sex          | null                 \n",
      " Age          | 6.0                  \n",
      " SibSp        | 0                    \n",
      " Parch        | 0                    \n",
      " Ticket       | 19996.0              \n",
      " Fare         | 7.8958               \n",
      " Cabin        | null                 \n",
      " Embarked     | null                 \n",
      " CabinSection | null                 \n",
      "-RECORD 5----------------------------\n",
      " summary      | 50%                  \n",
      " PassengerId  | 446                  \n",
      " Survived     | 0                    \n",
      " Pclass       | 3                    \n",
      " Name         | null                 \n",
      " Sex          | null                 \n",
      " Age          | 24.0                 \n",
      " SibSp        | 0                    \n",
      " Parch        | 0                    \n",
      " Ticket       | 236171.0             \n",
      " Fare         | 14.4542              \n",
      " Cabin        | null                 \n",
      " Embarked     | null                 \n",
      " CabinSection | null                 \n",
      "-RECORD 6----------------------------\n",
      " summary      | 75%                  \n",
      " PassengerId  | 669                  \n",
      " Survived     | 1                    \n",
      " Pclass       | 3                    \n",
      " Name         | null                 \n",
      " Sex          | null                 \n",
      " Age          | 35.0                 \n",
      " SibSp        | 1                    \n",
      " Parch        | 0                    \n",
      " Ticket       | 347743.0             \n",
      " Fare         | 31.0                 \n",
      " Cabin        | null                 \n",
      " Embarked     | null                 \n",
      " CabinSection | null                 \n",
      "-RECORD 7----------------------------\n",
      " summary      | max                  \n",
      " PassengerId  | 891                  \n",
      " Survived     | 1                    \n",
      " Pclass       | 3                    \n",
      " Name         | van Melkebeke, Mr... \n",
      " Sex          | male                 \n",
      " Age          | 80.0                 \n",
      " SibSp        | 8                    \n",
      " Parch        | 6                    \n",
      " Ticket       | WE/P 5735            \n",
      " Fare         | 512.3292             \n",
      " Cabin        | T                    \n",
      " Embarked     | S                    \n",
      " CabinSection | T                    \n",
      "\n"
     ]
    }
   ],
   "source": [
    "trainDf.summary().show(vertical=True)"
   ]
  },
  {
   "cell_type": "code",
   "execution_count": 111,
   "id": "1246884f-065e-4459-a2e6-dc8642f72ab9",
   "metadata": {},
   "outputs": [
    {
     "name": "stdout",
     "output_type": "stream",
     "text": [
      "+------+------+--------+-----+\n",
      "|Pclass|   Sex|Survived|count|\n",
      "+------+------+--------+-----+\n",
      "|     1|female|       1|   91|\n",
      "|     1|female|       0|    3|\n",
      "|     1|  male|       1|   45|\n",
      "|     1|  male|       0|   77|\n",
      "|     2|female|       1|   70|\n",
      "|     2|female|       0|    6|\n",
      "|     2|  male|       1|   17|\n",
      "|     2|  male|       0|   91|\n",
      "|     3|female|       1|   72|\n",
      "|     3|female|       0|   72|\n",
      "|     3|  male|       1|   47|\n",
      "|     3|  male|       0|  300|\n",
      "+------+------+--------+-----+\n",
      "\n"
     ]
    }
   ],
   "source": [
    "trainDf\\\n",
    "    .groupBy(F.col(\"Pclass\"), F.col(\"Sex\"), F.col(\"Survived\"))\\\n",
    "    .count()\\\n",
    "    .sort(F.col(\"Pclass\"), F.col(\"Sex\")).show()"
   ]
  },
  {
   "cell_type": "code",
   "execution_count": 59,
   "id": "fac35624-2693-4ddb-a17d-ca9286524527",
   "metadata": {},
   "outputs": [
    {
     "name": "stdout",
     "output_type": "stream",
     "text": [
      "+-----------+--------+-----------+--------+------+----+---+---+-----+-----+------+----+-----+--------+\n",
      "|PassengerId|Survived|PassengerId|Survived|Pclass|Name|Sex|Age|SibSp|Parch|Ticket|Fare|Cabin|Embarked|\n",
      "+-----------+--------+-----------+--------+------+----+---+---+-----+-----+------+----+-----+--------+\n",
      "+-----------+--------+-----------+--------+------+----+---+---+-----+-----+------+----+-----+--------+\n",
      "\n"
     ]
    }
   ],
   "source": [
    "outputDf.limit(1500).show(1500)"
   ]
  },
  {
   "cell_type": "code",
   "execution_count": null,
   "id": "08430917-38be-47cc-b214-da5ee128cbc3",
   "metadata": {},
   "outputs": [],
   "source": []
  }
 ],
 "metadata": {
  "kernelspec": {
   "display_name": "Python 3 (ipykernel)",
   "language": "python",
   "name": "python3"
  },
  "language_info": {
   "codemirror_mode": {
    "name": "ipython",
    "version": 3
   },
   "file_extension": ".py",
   "mimetype": "text/x-python",
   "name": "python",
   "nbconvert_exporter": "python",
   "pygments_lexer": "ipython3",
   "version": "3.10.6"
  }
 },
 "nbformat": 4,
 "nbformat_minor": 5
}
